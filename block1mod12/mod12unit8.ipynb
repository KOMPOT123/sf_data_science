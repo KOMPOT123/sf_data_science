{
 "cells": [
  {
   "cell_type": "code",
   "execution_count": 2,
   "metadata": {},
   "outputs": [],
   "source": [
    "# Импорт модулей\n",
    "import pandas as pd\n",
    "import re\n",
    "\n",
    "# Открытие датасета\n",
    "path = 'C:/Users/studo/Documents/skill/sf_data_science/block1mod12/ratings_movies/ratings_movies.csv'\n",
    "data = pd.read_csv(path, sep=',')\n",
    "df = data.copy()"
   ]
  },
  {
   "cell_type": "code",
   "execution_count": 3,
   "metadata": {},
   "outputs": [],
   "source": [
    "# Функция виделения года из названия фильма\n",
    "def get_year_release(arg):\n",
    "    #находим все слова по шаблону \"(DDDD)\"\n",
    "    candidates = re.findall(r'\\(\\d{4}\\)', arg) \n",
    "    # проверяем число вхождений\n",
    "    if len(candidates) > 0:\n",
    "        #если число вхождений больше 0,\n",
    "\t#очищаем строку от знаков \"(\" и \")\"\n",
    "        year = candidates[0].replace('(', '')\n",
    "        year = year.replace(')', '')\n",
    "        return int(year)\n",
    "    else:\n",
    "        #если год не указан, возвращаем None\n",
    "        return None"
   ]
  },
  {
   "cell_type": "code",
   "execution_count": 4,
   "metadata": {},
   "outputs": [
    {
     "data": {
      "text/plain": [
       "18"
      ]
     },
     "execution_count": 4,
     "metadata": {},
     "output_type": "execute_result"
    }
   ],
   "source": [
    "df['year_release'] = df['title'].apply(get_year_release)\n",
    "df.shape[0] - df['year_release'].count() # Количество пустых значений года\n",
    "# Test 8.1"
   ]
  },
  {
   "cell_type": "code",
   "execution_count": 5,
   "metadata": {},
   "outputs": [
    {
     "data": {
      "text/plain": [
       "'Bloodsport: The Dark Kumite (1999)'"
      ]
     },
     "execution_count": 5,
     "metadata": {},
     "output_type": "execute_result"
    }
   ],
   "source": [
    "mask_year = df['year_release'] == 1999\n",
    "df[mask_year].groupby(by='title')['rating'].mean().sort_values().index[0]\n",
    "# Найхудший фильм в 1999\n",
    "# Test 8.2"
   ]
  },
  {
   "cell_type": "code",
   "execution_count": 6,
   "metadata": {},
   "outputs": [
    {
     "data": {
      "text/plain": [
       "'Action|Sci-Fi'"
      ]
     },
     "execution_count": 6,
     "metadata": {},
     "output_type": "execute_result"
    }
   ],
   "source": [
    "mask_year2010 = df['year_release'] == 2010\n",
    "df[mask_year2010].groupby(by='genres')['rating'].mean().sort_values().index[0]\n",
    "# Найхудший жанр в 2010\n",
    "# Test 8.3"
   ]
  },
  {
   "cell_type": "code",
   "execution_count": 7,
   "metadata": {},
   "outputs": [
    {
     "data": {
      "text/plain": [
       "599"
      ]
     },
     "execution_count": 7,
     "metadata": {},
     "output_type": "execute_result"
    }
   ],
   "source": [
    "df.groupby(by='userId')['genres'].describe(include=0['object']).sort_values(by=['unique'], ascending=False).index[0]\n",
    "# Id ползователя который посмотрел больше всех жанров\n",
    "# Test 8.4"
   ]
  },
  {
   "cell_type": "code",
   "execution_count": 10,
   "metadata": {},
   "outputs": [
    {
     "data": {
      "text/plain": [
       "53"
      ]
     },
     "execution_count": 10,
     "metadata": {},
     "output_type": "execute_result"
    }
   ],
   "source": [
    "rating_by_userId = df.groupby(by='userId')['rating'].agg(['count', 'max'])\n",
    "rating_by_userId.sort_values(by=['count', 'max'], ascending=[True, False]).index[0]\n",
    "# Индекс пользователя с меньшим количеством и максимальными оценками\n",
    "# Test 8.5"
   ]
  },
  {
   "cell_type": "code",
   "execution_count": 12,
   "metadata": {},
   "outputs": [
    {
     "data": {
      "text/plain": [
       "'Action|Adventure|Sci-Fi'"
      ]
     },
     "execution_count": 12,
     "metadata": {},
     "output_type": "execute_result"
    }
   ],
   "source": [
    "mask_year2018 = df['year_release'] == 2018\n",
    "genres_by_rating = df[mask_year2018].groupby(by='genres')['rating'].agg(['mean', 'count'])\n",
    "genres_by_rating[genres_by_rating['count']>10].sort_values(by=['mean'], ascending=False).index[0]\n",
    "# Найбольший средний рейтинг жанра за год и с количеством оценок больше 10\n",
    "# Test 8.6"
   ]
  },
  {
   "cell_type": "code",
   "execution_count": 47,
   "metadata": {},
   "outputs": [
    {
     "data": {
      "text/plain": [
       "genres\n",
       "Comedy|Horror|Mystery                     5.0\n",
       "Comedy|Fantasy|Horror|Musical|Thriller    5.0\n",
       "Animation|Children|Mystery                5.0\n",
       "Comedy|Crime|Horror|Thriller              5.0\n",
       "Drama|Horror|Mystery|Sci-Fi|Thriller      5.0\n",
       "                                         ... \n",
       "Adventure|Comedy|Crime|Drama|Romance      0.0\n",
       "Adventure|Comedy|Crime|Mystery            0.0\n",
       "Comedy|Drama|Sci-Fi|War                   0.0\n",
       "Comedy|Drama|Sci-Fi|Thriller              0.0\n",
       "Adventure|Drama|Horror|Thriller           0.0\n",
       "Name: 2018, Length: 951, dtype: float64"
      ]
     },
     "execution_count": 47,
     "metadata": {},
     "output_type": "execute_result"
    }
   ],
   "source": [
    "df['year_rating'] = pd.to_datetime(df['date']).dt.year\n",
    "piv_rating = df.pivot_table(\n",
    "    values='rating',\n",
    "    index='genres',\n",
    "    columns='year_rating',\n",
    "    aggfunc='mean',\n",
    "    fill_value=0)\n",
    "piv_rating[2018].sort_values(ascending=False)\n",
    "# Test 8.7"
   ]
  }
 ],
 "metadata": {
  "interpreter": {
   "hash": "8a2b2dea9a68a8b488b414db9b360ddf27395b338dc8fdaf335f5bfff3976574"
  },
  "kernelspec": {
   "display_name": "Python 3.8.12 64-bit ('skill': conda)",
   "language": "python",
   "name": "python3"
  },
  "language_info": {
   "codemirror_mode": {
    "name": "ipython",
    "version": 3
   },
   "file_extension": ".py",
   "mimetype": "text/x-python",
   "name": "python",
   "nbconvert_exporter": "python",
   "pygments_lexer": "ipython3",
   "version": "3.8.12"
  },
  "orig_nbformat": 4
 },
 "nbformat": 4,
 "nbformat_minor": 2
}
