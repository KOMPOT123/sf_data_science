{
 "cells": [
  {
   "cell_type": "code",
   "execution_count": null,
   "metadata": {},
   "outputs": [],
   "source": [
    "import pandas as pd\n",
    "\n",
    "melb_data = pd.read_csv('C:/Users/studo/Documents/skill/sf_data_science/panda/melb_data_fe.csv', sep=',')\n",
    "df = melb_data.copy()"
   ]
  },
  {
   "cell_type": "code",
   "execution_count": null,
   "metadata": {},
   "outputs": [],
   "source": [
    "df['Date'] = pd.to_datetime(df['Date'])"
   ]
  },
  {
   "cell_type": "code",
   "execution_count": null,
   "metadata": {},
   "outputs": [],
   "source": [
    "qwa = df['Date'].dt.quarter\n",
    "# test 1.1"
   ]
  },
  {
   "cell_type": "code",
   "execution_count": null,
   "metadata": {},
   "outputs": [],
   "source": [
    "exception_list = ['Date', 'Rooms', 'Bedroom', 'Bathroom', 'Car']\n",
    "for i in df.columns:\n",
    "    if i in exception_list:\n",
    "        continue\n",
    "    else:\n",
    "        if df[i].value_counts().shape[0] < 150:\n",
    "            df[i] = df[i].astype('category')\n",
    "        else:\n",
    "            continue\n",
    "df.info()\n",
    "# test 1.2"
   ]
  },
  {
   "cell_type": "code",
   "execution_count": null,
   "metadata": {},
   "outputs": [],
   "source": [
    "area = df.sort_values(by='AreaRatio', ascending=False, ignore_index=True)\n",
    "area['BuildingArea'].loc[1558]\n",
    "# test 2.2"
   ]
  },
  {
   "cell_type": "code",
   "execution_count": null,
   "metadata": {},
   "outputs": [],
   "source": [
    "mask1 = df['Type'] == 'townhouse'\n",
    "mask2 = df['Rooms'] > 2\n",
    "df[mask1 & mask2].sort_values(by=['Rooms', 'MeanRoomsSquare'], ascending=[True, False], ignore_index=True).loc[18]\n",
    "# test 2.3"
   ]
  },
  {
   "cell_type": "code",
   "execution_count": null,
   "metadata": {},
   "outputs": [],
   "source": [
    "#Сгруппируйте данные по признаку количества комнат и найдите среднюю цену объектов недвижимости в каждой группе. \n",
    "#В качестве ответа запишите количество комнат, для которых средняя цена наибольшая.\n",
    "df.groupby(by='Rooms', as_index=False).agg('mean').sort_values(by='Price')\n",
    "# test 3.1"
   ]
  },
  {
   "cell_type": "code",
   "execution_count": null,
   "metadata": {},
   "outputs": [],
   "source": [
    "df.groupby(by='Regionname').std().sort_values(by='Lattitude')\n",
    "# test 3.2"
   ]
  },
  {
   "cell_type": "code",
   "execution_count": null,
   "metadata": {},
   "outputs": [],
   "source": [
    "mask331 = pd.to_datetime('2017.05.01') <= df['Date']\n",
    "mask33 = df['Date'] <= pd.to_datetime('2017.09.01')\n",
    "df[mask33 & mask331].groupby(by='SellerG').sum().sort_values(by='Price')\n",
    "# test 3.3\n"
   ]
  },
  {
   "cell_type": "code",
   "execution_count": null,
   "metadata": {},
   "outputs": [],
   "source": [
    "piv1 = df.pivot_table(\n",
    "    values='BuildingArea',\n",
    "    index='Type',\n",
    "    columns='Rooms',\n",
    "    aggfunc='median'\n",
    ")\n",
    "piv1\n",
    "# test 4.2"
   ]
  },
  {
   "cell_type": "code",
   "execution_count": null,
   "metadata": {},
   "outputs": [],
   "source": [
    "piv2 = df.pivot_table(\n",
    "    values='Price',\n",
    "    index='SellerG',\n",
    "    columns='Type',\n",
    "    aggfunc='mean'\n",
    ")\n",
    "piv2.sort_values(by='unit')\n",
    "# test 4.3"
   ]
  },
  {
   "cell_type": "code",
   "execution_count": null,
   "metadata": {},
   "outputs": [],
   "source": []
  }
 ],
 "metadata": {
  "interpreter": {
   "hash": "8a2b2dea9a68a8b488b414db9b360ddf27395b338dc8fdaf335f5bfff3976574"
  },
  "kernelspec": {
   "display_name": "Python 3.8.12 64-bit ('skill': conda)",
   "language": "python",
   "name": "python3"
  },
  "language_info": {
   "codemirror_mode": {
    "name": "ipython",
    "version": 3
   },
   "file_extension": ".py",
   "mimetype": "text/x-python",
   "name": "python",
   "nbconvert_exporter": "python",
   "pygments_lexer": "ipython3",
   "version": "3.8.12"
  },
  "orig_nbformat": 4
 },
 "nbformat": 4,
 "nbformat_minor": 2
}
