{
 "cells": [
  {
   "cell_type": "code",
   "execution_count": 1,
   "metadata": {},
   "outputs": [],
   "source": [
    "import pandas as pd\n",
    "\n",
    "movies_data = pd.read_csv('C:/Users/studo/Documents/skill/sf_data_science/panda/movies_data/movies.csv', sep=',')\n",
    "dates_data = pd.read_csv('C:/Users/studo/Documents/skill/sf_data_science/panda/movies_data/dates.csv', sep=',')\n",
    "ratings1_data = pd.read_csv('C:/Users/studo/Documents/skill/sf_data_science/panda/movies_data/ratings1.csv', sep=',')\n",
    "ratings2_data = pd.read_csv('C:/Users/studo/Documents/skill/sf_data_science/panda/movies_data/ratings2.csv', sep=',')\n",
    "movies = movies_data.copy()\n",
    "dates = dates_data.copy()\n",
    "ratings1 = ratings1_data.copy()\n",
    "ratings2 = ratings2_data.copy()"
   ]
  },
  {
   "cell_type": "code",
   "execution_count": 6,
   "metadata": {},
   "outputs": [
    {
     "data": {
      "text/plain": [
       "9742"
      ]
     },
     "execution_count": 6,
     "metadata": {},
     "output_type": "execute_result"
    }
   ],
   "source": [
    "movies['title'].count()\n",
    "# test 5.2"
   ]
  },
  {
   "cell_type": "code",
   "execution_count": null,
   "metadata": {},
   "outputs": [],
   "source": [
    "ratings1['userId'].value_counts()\n",
    "# test 5.3"
   ]
  },
  {
   "cell_type": "code",
   "execution_count": null,
   "metadata": {},
   "outputs": [],
   "source": [
    "dates['date'] = pd.to_datetime(dates['date'])\n",
    "year = dates['date'].dt.year\n",
    "year.value_counts()\n",
    "# test 5.4"
   ]
  },
  {
   "cell_type": "code",
   "execution_count": null,
   "metadata": {},
   "outputs": [],
   "source": [
    "'''\n",
    "import pandas as pd\n",
    "import os\n",
    "\n",
    "def concat_users_files(path):\n",
    "    \"\"\"\n",
    "    Вам необходимо написать функцию concat_user_files(path), параметром которой является path - путь до директории. \n",
    "    Функция должна объединить информацию из предоставленных вам файлов в один DataFrame и вернуть его. \n",
    "    Не забудьте обновить индексы результирующей таблицы после объединения.\n",
    "    Учтите тот момент, что в результате объединения могут возникнуть дубликаты, от которых необходимо будет избавиться. \n",
    "    \"\"\"\n",
    "    list_files = os.listdir(path)\n",
    "    list_files.sort()\n",
    "    list_read = []\n",
    "    for i in list_files:\n",
    "        read = pd.read_csv(path+i, sep = ',')\n",
    "        list_read.append(read)\n",
    "    conc = pd.concat(list_read, ignore_index=True)\n",
    "    print(conc)\n",
    "    conc = conc.drop_duplicates()\n",
    "    return conc\n",
    "\n",
    "if __name__ == '__main__':\n",
    "    data = concat_users_files('./Root/users/')\n",
    "'''\n",
    "# test 6.3"
   ]
  },
  {
   "cell_type": "code",
   "execution_count": null,
   "metadata": {},
   "outputs": [],
   "source": [
    "'''\n",
    "import pandas as pd\n",
    "\n",
    "items_df = pd.DataFrame({\n",
    "'item_id': [417283, 849734, 132223, 573943, 19475, 3294095, 382043, 302948, 100132, 312394], \n",
    "'vendor': ['Samsung', 'LG', 'Apple', 'Apple', 'LG', 'Apple', 'Samsung', 'Samsung', 'LG', 'ZTE'],\n",
    "'stock_count': [54, 33, 122, 18, 102, 43, 77, 143, 60, 19]\n",
    "})\n",
    "\n",
    "purchase_df = pd.DataFrame({\n",
    "    'purchase_id': [101, 101, 101, 112, 121, 145, 145, 145, 145, 221],\n",
    "    'item_id': [417283, 849734, 132223, 573943, 19475, 3294095, 382043, 302948, 103845, 100132], \n",
    "    'price': [13900, 5330, 38200, 49990, 9890, 33000, 67500, 34500, 89900, 11400]\n",
    "})\n",
    "\"\"\"\n",
    "Сформируйте DataFrame merged, в котором в результате объединения\n",
    "purchase_df и items_df останутся модели, которые учтены на складе и имели продажи. \n",
    "\"\"\"\n",
    "merged = purchase_df.merge(items_df, how='inner', on = 'item_id')\n",
    "\"\"\"\n",
    "Найдите из таблицы merged суммарную выручку, которую можно было бы получить \n",
    "от продажи всех товаров, которые есть на складе. \n",
    "Результат занесите в переменную income.\n",
    "\"\"\"\n",
    "merged['total'] = merged['price'] * merged['stock_count']\n",
    "income = merged['total'].sum()\n",
    "'''\n",
    "#test 7.5"
   ]
  },
  {
   "cell_type": "code",
   "execution_count": null,
   "metadata": {},
   "outputs": [],
   "source": []
  }
 ],
 "metadata": {
  "interpreter": {
   "hash": "8a2b2dea9a68a8b488b414db9b360ddf27395b338dc8fdaf335f5bfff3976574"
  },
  "kernelspec": {
   "display_name": "Python 3.8.12 64-bit ('skill': conda)",
   "language": "python",
   "name": "python3"
  },
  "language_info": {
   "codemirror_mode": {
    "name": "ipython",
    "version": 3
   },
   "file_extension": ".py",
   "mimetype": "text/x-python",
   "name": "python",
   "nbconvert_exporter": "python",
   "pygments_lexer": "ipython3",
   "version": "3.8.12"
  },
  "orig_nbformat": 4
 },
 "nbformat": 4,
 "nbformat_minor": 2
}
