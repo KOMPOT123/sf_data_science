{
 "cells": [
  {
   "cell_type": "code",
   "execution_count": 58,
   "metadata": {},
   "outputs": [],
   "source": [
    "import pandas as pd\n",
    "melb_data = pd.read_csv('C:/Users/studo/Documents/skill/sf_data_science/panda/citibike-tripdata.csv', sep=',')\n",
    "df = melb_data.copy()\n"
   ]
  },
  {
   "cell_type": "code",
   "execution_count": 59,
   "metadata": {},
   "outputs": [],
   "source": [
    "df = df.drop(['start station id', 'end station id'], axis=1)\n",
    "#delete station id"
   ]
  },
  {
   "cell_type": "code",
   "execution_count": 61,
   "metadata": {},
   "outputs": [],
   "source": [
    "df['age'] = df['birth year'].apply(lambda x: 2018 - int(x))\n",
    "df = df.drop(['birth year'], axis=1)\n",
    "#create age adn delete birth year"
   ]
  },
  {
   "cell_type": "code",
   "execution_count": 79,
   "metadata": {},
   "outputs": [],
   "source": [
    "df['starttime'] = pd.to_datetime(df['starttime'])\n",
    "df['stoptime'] = pd.to_datetime(df['stoptime'])\n",
    "duratios = df['stoptime'] - df['starttime']\n",
    "df['trip duration'] = duratios.dt.seconds\n",
    "#create trip duration in sec"
   ]
  },
  {
   "cell_type": "code",
   "execution_count": 90,
   "metadata": {},
   "outputs": [],
   "source": [
    "def get_weekend(weekday):\n",
    "    if weekday == 'Saturday' or weekday == 'Sunday':\n",
    "        return 1\n",
    "    else:\n",
    "        return 0\n",
    "\n",
    "df['weekend'] = df['starttime'].dt.day_name()\n",
    "df['weekend'] = df['weekend'].apply(get_weekend)\n",
    "#create weeken colum"
   ]
  },
  {
   "cell_type": "code",
   "execution_count": 105,
   "metadata": {},
   "outputs": [],
   "source": [
    "def get_time(time):\n",
    "    if 0 <= time <= 6:\n",
    "        return 'night'\n",
    "    elif 6 < time <= 12:\n",
    "        return 'morning'\n",
    "    elif 12 < time <= 18:\n",
    "        return 'day'\n",
    "    elif 18 < time <= 23:\n",
    "        return 'evening'\n",
    "    else:\n",
    "        return 'else'\n",
    "    \n",
    "df['time_of_day'] = df['starttime'].dt.hour\n",
    "df['time_of_day'] = df['time_of_day'].apply(get_time)"
   ]
  },
  {
   "cell_type": "code",
   "execution_count": 106,
   "metadata": {},
   "outputs": [
    {
     "data": {
      "text/plain": [
       "9"
      ]
     },
     "execution_count": 106,
     "metadata": {},
     "output_type": "execute_result"
    }
   ],
   "source": [
    "d = df[df['time_of_day'] == 'day'].shape[0]\n",
    "n = df[df['time_of_day'] == 'night'].shape[0]\n",
    "round(d / n)"
   ]
  }
 ],
 "metadata": {
  "interpreter": {
   "hash": "8a2b2dea9a68a8b488b414db9b360ddf27395b338dc8fdaf335f5bfff3976574"
  },
  "kernelspec": {
   "display_name": "Python 3.8.12 64-bit ('skill': conda)",
   "language": "python",
   "name": "python3"
  },
  "language_info": {
   "codemirror_mode": {
    "name": "ipython",
    "version": 3
   },
   "file_extension": ".py",
   "mimetype": "text/x-python",
   "name": "python",
   "nbconvert_exporter": "python",
   "pygments_lexer": "ipython3",
   "version": "3.8.12"
  },
  "orig_nbformat": 4
 },
 "nbformat": 4,
 "nbformat_minor": 2
}
