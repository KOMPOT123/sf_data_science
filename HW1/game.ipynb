{
 "cells": [
  {
   "cell_type": "markdown",
   "metadata": {},
   "source": [
    "# Угадай число\n",
    "\n",
    "Задача: написать программу, которая угадывает число за минимальное число попыток.\n",
    "\n",
    "## Условия соревнования\n",
    "- Компьютер загадывает целое число от 1 до 100, и нам его нужно угадать. \n",
    "Под «угадать», подразумевается «написать программу, которая угадывает число».    \n",
    "- Алгоритм учитывает информацию о том, больше ли случайное число или меньше нужного нам.\n",
    "- Необходимо добиться того, чтобы программа угадывала число меньше, чем за 20 попыток. "
   ]
  },
  {
   "cell_type": "markdown",
   "metadata": {},
   "source": [
    "Библиотеки которые небходимы:"
   ]
  },
  {
   "cell_type": "code",
   "execution_count": 30,
   "metadata": {},
   "outputs": [],
   "source": [
    "import numpy as np"
   ]
  },
  {
   "cell_type": "markdown",
   "metadata": {},
   "source": [
    "Благодаря numpy мы сможем загадывать случайны числа."
   ]
  },
  {
   "cell_type": "markdown",
   "metadata": {},
   "source": [
    "## 1. Пример решения \"наугад\"\n",
    "\n",
    "Простейший способ решения: научить программу случайным образом выбирать \n",
    "число до тех пор, пока оно не будет угадано. Этот способ не дает хорошего результата."
   ]
  },
  {
   "cell_type": "code",
   "execution_count": 31,
   "metadata": {},
   "outputs": [],
   "source": [
    "def random_predict_ex(number: int = 1) -> int:\n",
    "    \"\"\"\n",
    "       Просто угадываем на random, никак не используя\n",
    "       информацию о больше или меньше.\n",
    "       Функция принимает загаданное число и возвращает число попыток\n",
    "\n",
    "    Args:\n",
    "        number (int, optional): Загаданное число. Defaults to 1.\n",
    "\n",
    "    Returns:\n",
    "        int: Число попыток\n",
    "    \"\"\"\n",
    "    \n",
    "    count = 0\n",
    "\n",
    "    while True:\n",
    "        count += 1\n",
    "        predict_number = np.random.randint(1, 101)  # предполагаемое число\n",
    "        if number == predict_number:\n",
    "            break  # выход из цикла если угадали\n",
    "    \n",
    "    return count\n"
   ]
  },
  {
   "cell_type": "markdown",
   "metadata": {},
   "source": [
    "Данное решение было предоставленно SF."
   ]
  },
  {
   "cell_type": "markdown",
   "metadata": {},
   "source": [
    "## 2. Решение: Бинарный поиск\n",
    "Суть решения в том, что на каждом шаге выполняется проверка (больше \n",
    "или меньше) предлагаемое(изначально половина всех возможных вариантов) \n",
    "число от загаданого. И на основании этого отсекается половина заведомо\n",
    "неверных чисел. Затем предпологоемое число заменяется вновь на среднее\n",
    "из оставшихся."
   ]
  },
  {
   "cell_type": "markdown",
   "metadata": {},
   "source": [
    "Полный код программы:"
   ]
  },
  {
   "cell_type": "code",
   "execution_count": 32,
   "metadata": {},
   "outputs": [],
   "source": [
    "import numpy as np\n",
    "\n",
    "def random_predict(number: int=1) -> int:\n",
    "    \n",
    "    \"\"\" Binary search,\n",
    "        The upper and lower search boundaries are used.\n",
    "        At each iteration of the loop: a hidden number is compared with\n",
    "        the average between the upper and lower limits.\n",
    "        Returns the number of iterations.\n",
    "        \n",
    "    Args:\n",
    "        number (int, optional): Hidden number. Defaults to 1.\n",
    "\n",
    "    Returns:\n",
    "        int: Number of attempts.\n",
    "    \"\"\"\n",
    "    \n",
    "    count = 0   # save the number of attempts\n",
    "    upper = 100  \n",
    "    lower = 1\n",
    "    mid = 50\n",
    "    \n",
    "    while mid != number:\n",
    "        count += 1\n",
    "        \n",
    "        if mid > number:\n",
    "            upper = mid - 1\n",
    "        elif mid < number:\n",
    "            lower = mid + 1\n",
    "            \n",
    "        mid = (upper + lower) // 2\n",
    "        \n",
    "    return count"
   ]
  },
  {
   "cell_type": "markdown",
   "metadata": {},
   "source": [
    "## 3. Функция оценки качества\n",
    "Эта функция необходима, чтобы определить, за какое число\n",
    "попыток программа угадывает наше число.\n",
    "Создадим список из 1000 случайных чисел от 1 до 100 и применим\n",
    "к нему наше решение. Вывод будет среднее количество попыток."
   ]
  },
  {
   "cell_type": "code",
   "execution_count": 33,
   "metadata": {},
   "outputs": [],
   "source": [
    "def score_game(random_predict) -> int:\n",
    "    \"\"\"\n",
    "    Generates a list of random numbers and applies random_predict to each one\n",
    "    Returns an average number of iterations of random_predict.\n",
    "    \n",
    "    Args:\n",
    "        random_predict (function): search a hidden number\n",
    "\n",
    "    Returns:\n",
    "        int: the number on average tries\n",
    "    \"\"\"\n",
    "    count_ls = [] # list to save the number of attempts\n",
    "    np.random.seed(1) # fix the seed for reproducibility\n",
    "    random_array = np.random.randint(1, 101, size=(1000))#hid list of numbers\n",
    "\n",
    "    for number in random_array:\n",
    "        count_ls.append(random_predict(number))\n",
    "\n",
    "    score = int(np.mean(count_ls)) # find the average number of attempts\n",
    "\n",
    "    print(f'Your algorithm guesses the number on average in: {score} tries')\n",
    "    return(score)"
   ]
  },
  {
   "cell_type": "markdown",
   "metadata": {},
   "source": [
    "Запустим оценку решений:"
   ]
  },
  {
   "cell_type": "code",
   "execution_count": 34,
   "metadata": {},
   "outputs": [
    {
     "name": "stdout",
     "output_type": "stream",
     "text": [
      "Your algorithm guesses the number on average in: 101 tries\n",
      "=======================================================\n",
      "Your algorithm guesses the number on average in: 4 tries\n"
     ]
    },
    {
     "data": {
      "text/plain": [
       "4"
      ]
     },
     "execution_count": 34,
     "metadata": {},
     "output_type": "execute_result"
    }
   ],
   "source": [
    "score_game(random_predict_ex) # Вариант \"наугад\"\n",
    "print('='*55)\n",
    "score_game(random_predict) # Вариант \"бинарный поиск\""
   ]
  },
  {
   "cell_type": "markdown",
   "metadata": {},
   "source": [
    "Видно что 2й подход в разы быстрее."
   ]
  }
 ],
 "metadata": {
  "interpreter": {
   "hash": "8a2b2dea9a68a8b488b414db9b360ddf27395b338dc8fdaf335f5bfff3976574"
  },
  "kernelspec": {
   "display_name": "Python 3.8.12 64-bit ('base': conda)",
   "language": "python",
   "name": "python3"
  },
  "language_info": {
   "codemirror_mode": {
    "name": "ipython",
    "version": 3
   },
   "file_extension": ".py",
   "mimetype": "text/x-python",
   "name": "python",
   "nbconvert_exporter": "python",
   "pygments_lexer": "ipython3",
   "version": "3.8.12"
  },
  "orig_nbformat": 4
 },
 "nbformat": 4,
 "nbformat_minor": 2
}
